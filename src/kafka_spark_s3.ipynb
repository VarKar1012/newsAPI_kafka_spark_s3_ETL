{
 "cells": [
  {
   "cell_type": "code",
   "execution_count": 1,
   "id": "1113607a-e691-44e4-8dff-887219fb3dd6",
   "metadata": {},
   "outputs": [],
   "source": [
    "from pyspark.sql import SparkSession\n",
    "from pyspark.sql.types import *\n",
    "from pyspark.sql.functions import *"
   ]
  },
  {
   "cell_type": "code",
   "execution_count": null,
   "id": "394986be-4477-4a23-8791-d28f5b23f2a3",
   "metadata": {},
   "outputs": [],
   "source": [
    "jars = [\"/home/varna/hadoop/spark/spark-3.2.4-bin-hadoop3.2/jars/spark-sql-kafka-0-10_2.12-3.2.4.jar\",\n",
    "        \"/home/varna/hadoop/spark/spark-3.2.4-bin-hadoop3.2/jars/spark-token-provider-kafka-0-10_2.12-3.2.4.jar\",\n",
    "        \"/home/varna/hadoop/spark/spark-3.2.4-bin-hadoop3.2/jars/commons-pool2-2.6.2.jar\",\n",
    "        \"/home/varna/hadoop/spark/spark-3.2.4-bin-hadoop3.2/jars/kafka-clients-2.8.1.jar\",\n",
    "        \"/home/varna/hadoop/spark/spark-3.2.4-bin-hadoop3.2/jars/aws-java-sdk-1.11.951.jar\",\n",
    "        \"/home/varna/hadoop/spark/spark-3.2.4-bin-hadoop3.2/jars/hadoop-aws-3.2.2.jar\"\n",
    "       ]\n",
    "\n",
    "# create spark session\n",
    "spark = SparkSession.builder\\\n",
    "    .appName('kafka_spark_consumer')\\\n",
    "    .master('local[2]')\\\n",
    "    .config(\"spark.jars\", ','.join(jars))\\\n",
    "    .config(\"spark.hadoop.fs.s3a.access.key\", \"<aws_access_key>\") \\\n",
    "    .config(\"spark.hadoop.fs.s3a.secret.key\", \"<aws_secret_key>\") \\\n",
    "    .config(\"spark.hadoop.fs.s3a.endpoint\", \"s3.amazonaws.com\") \\\n",
    "    .config(\"spark.hadoop.fs.s3a.aws.credentials.provider\", \"org.apache.hadoop.fs.s3a.SimpleAWSCredentialsProvider\")\\\n",
    "    .config('spark.hadoop.fs.s3a.impl', 'org.apache.hadoop.fs.s3a.S3AFileSystem')\\\n",
    "    .getOrCreate()\n",
    "spark.sparkContext.setLogLevel('ERROR')"
   ]
  },
  {
   "cell_type": "code",
   "execution_count": 3,
   "id": "373cbfc5-ab9f-433f-8ed0-f81a0ee99255",
   "metadata": {},
   "outputs": [],
   "source": [
    "# make a spark connection with kafka topic to read dstreams\n",
    "KAFKA_TOPIC = 'newsTopic3'\n",
    "KAFKA_BOOTSTRAP_SERVER = 'localhost:9092'\n",
    "\n",
    "stream_df = spark.readStream\\\n",
    "    .format(\"kafka\")\\\n",
    "    .option(\"kafka.bootstrap.servers\", KAFKA_BOOTSTRAP_SERVER)\\\n",
    "    .option(\"subscribe\", KAFKA_TOPIC)\\\n",
    "    .option(\"startingOffsets\", \"earliest\")\\\n",
    "    .load()"
   ]
  },
  {
   "cell_type": "code",
   "execution_count": 4,
   "id": "16227efc-a4fe-473e-87a3-9585b3c75c69",
   "metadata": {},
   "outputs": [
    {
     "data": {
      "text/plain": [
       "DataFrame[value: string, timestamp: timestamp]"
      ]
     },
     "execution_count": 4,
     "metadata": {},
     "output_type": "execute_result"
    }
   ],
   "source": [
    "news_df = stream_df.selectExpr(\"CAST(value as STRING)\", \"timestamp\")\n",
    "news_df"
   ]
  },
  {
   "cell_type": "code",
   "execution_count": 5,
   "id": "a8de246b-1f4f-43eb-a7ca-5383a27e2e6f",
   "metadata": {},
   "outputs": [
    {
     "data": {
      "text/plain": [
       "DataFrame[author: string, title: string, description: string, timestamp: timestamp]"
      ]
     },
     "execution_count": 5,
     "metadata": {},
     "output_type": "execute_result"
    }
   ],
   "source": [
    "# applying new schema\n",
    "news_schema = StructType([\n",
    "    StructField('author', StringType()),\n",
    "    StructField('title', StringType()),\n",
    "    StructField('description', StringType()),\n",
    "])\n",
    "\n",
    "news_info_df = news_df.select(from_json(col(\"value\"), news_schema).alias(\"news_info\"), \"timestamp\")\\\n",
    "    .select('news_info.*', \"timestamp\")\n",
    "news_info_df"
   ]
  },
  {
   "cell_type": "code",
   "execution_count": null,
   "id": "db91ef0a-4010-460b-8aa6-089cb399b6c1",
   "metadata": {},
   "outputs": [],
   "source": [
    "# print output to console.\n",
    "query = news_info_df.writeStream\\\n",
    "    .outputMode(\"append\")\\\n",
    "    .format('csv')\\\n",
    "    .option(\"header\", True)\\\n",
    "    .option(\"path\", \"s3a://kafka-news-etl-varkar/news_streamed_output/\")\\\n",
    "    .option(\"checkpointLocation\", \"s3a://kafka-news-etl-varkar/checkpoint\")\\\n",
    "    .start()\n",
    "\n",
    "query.awaitTermination()"
   ]
  }
 ],
 "metadata": {
  "kernelspec": {
   "display_name": "Python 3 (ipykernel)",
   "language": "python",
   "name": "python3"
  },
  "language_info": {
   "codemirror_mode": {
    "name": "ipython",
    "version": 3
   },
   "file_extension": ".py",
   "mimetype": "text/x-python",
   "name": "python",
   "nbconvert_exporter": "python",
   "pygments_lexer": "ipython3",
   "version": "3.11.9"
  }
 },
 "nbformat": 4,
 "nbformat_minor": 5
}
