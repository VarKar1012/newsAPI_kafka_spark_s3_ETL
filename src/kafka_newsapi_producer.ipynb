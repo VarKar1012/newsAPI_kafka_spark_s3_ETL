{
 "cells": [
  {
   "cell_type": "code",
   "execution_count": null,
   "id": "2464a6c1-2ed3-44cb-b67d-97f6978ec1f4",
   "metadata": {},
   "outputs": [],
   "source": [
    "! pip install kafka-python-ng\n",
    "\n",
    "from kafka import KafkaProducer\n",
    "from kafka.errors import KafkaError\n",
    "import json\n",
    "import requests\n",
    "from time import sleep"
   ]
  },
  {
   "cell_type": "code",
   "execution_count": 2,
   "id": "a0dbe25c-2022-4b14-b681-1efe5b04b971",
   "metadata": {},
   "outputs": [],
   "source": [
    "# Define Kafka producer\n",
    "producer = KafkaProducer(\n",
    "    bootstrap_servers=['localhost:9092'],\n",
    "    value_serializer=lambda v: json.dumps(v).encode('utf-8')\n",
    ")"
   ]
  },
  {
   "cell_type": "code",
   "execution_count": null,
   "id": "6bb1de8e-6c07-4184-8ee1-b0839432c0c4",
   "metadata": {},
   "outputs": [],
   "source": [
    "keywords = ['bitcoin', 'war', 'election', 'monsoon']\n",
    "for keyword in keywords:\n",
    "    # Produce a message\n",
    "    response = requests.get(f'https://newsapi.org/v2/everything?q={keyword}&apiKey=a480e8aeb3d04e96a5a5ba0ebc0c9aa4')\n",
    "    news_data = response.json()\n",
    "\n",
    "    for each in news_data['articles']:\n",
    "        news = {\n",
    "            'author': each['author'],\n",
    "            'title': each['title'],\n",
    "            'description': each['description'],\n",
    "        }\n",
    "        \n",
    "        # send the message\n",
    "        data = {'news_info': news}\n",
    "        topic_name = 'newsTopic3'\n",
    "        future = producer.send(topic_name, value=news)\n",
    "        \n",
    "        sleep(3)"
   ]
  },
  {
   "cell_type": "code",
   "execution_count": null,
   "id": "c7bec097-d64c-4756-9e7b-5dfc800131d1",
   "metadata": {},
   "outputs": [],
   "source": []
  }
 ],
 "metadata": {
  "kernelspec": {
   "display_name": "Python 3 (ipykernel)",
   "language": "python",
   "name": "python3"
  },
  "language_info": {
   "codemirror_mode": {
    "name": "ipython",
    "version": 3
   },
   "file_extension": ".py",
   "mimetype": "text/x-python",
   "name": "python",
   "nbconvert_exporter": "python",
   "pygments_lexer": "ipython3",
   "version": "3.11.9"
  }
 },
 "nbformat": 4,
 "nbformat_minor": 5
}
