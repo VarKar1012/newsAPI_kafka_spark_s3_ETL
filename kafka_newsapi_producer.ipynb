{
 "cells": [
  {
   "cell_type": "code",
   "execution_count": 1,
   "id": "2464a6c1-2ed3-44cb-b67d-97f6978ec1f4",
   "metadata": {},
   "outputs": [
    {
     "name": "stdout",
     "output_type": "stream",
     "text": [
      "Requirement already satisfied: kafka-python-ng in /home/varna/anaconda3/envs/venv/lib/python3.11/site-packages (2.2.2)\n"
     ]
    }
   ],
   "source": [
    "! pip install kafka-python-ng\n",
    "\n",
    "from kafka import KafkaProducer\n",
    "from kafka.errors import KafkaError\n",
    "import json\n",
    "import requests\n",
    "from time import sleep"
   ]
  },
  {
   "cell_type": "code",
   "execution_count": 2,
   "id": "a0dbe25c-2022-4b14-b681-1efe5b04b971",
   "metadata": {},
   "outputs": [],
   "source": [
    "# Define Kafka producer\n",
    "producer = KafkaProducer(\n",
    "    bootstrap_servers=['localhost:9092'],\n",
    "    value_serializer=lambda v: json.dumps(v).encode('utf-8')\n",
    ")"
   ]
  },
  {
   "cell_type": "code",
   "execution_count": 3,
   "id": "6bb1de8e-6c07-4184-8ee1-b0839432c0c4",
   "metadata": {},
   "outputs": [
    {
     "ename": "KeyboardInterrupt",
     "evalue": "",
     "output_type": "error",
     "traceback": [
      "\u001b[0;31m---------------------------------------------------------------------------\u001b[0m",
      "\u001b[0;31mKeyboardInterrupt\u001b[0m                         Traceback (most recent call last)",
      "Cell \u001b[0;32mIn[3], line 26\u001b[0m\n\u001b[1;32m     20\u001b[0m future \u001b[38;5;241m=\u001b[39m producer\u001b[38;5;241m.\u001b[39msend(topic_name, value\u001b[38;5;241m=\u001b[39mnews)\n\u001b[1;32m     21\u001b[0m \u001b[38;5;66;03m# or\u001b[39;00m\n\u001b[1;32m     22\u001b[0m \u001b[38;5;66;03m# data = {'key': 'news_info', 'value' : news}\u001b[39;00m\n\u001b[1;32m     23\u001b[0m \u001b[38;5;66;03m# future = producer.send(topic_name, data)\u001b[39;00m\n\u001b[1;32m     24\u001b[0m \n\u001b[1;32m     25\u001b[0m \u001b[38;5;66;03m# producer.flush()\u001b[39;00m\n\u001b[0;32m---> 26\u001b[0m sleep(\u001b[38;5;241m3\u001b[39m)\n",
      "\u001b[0;31mKeyboardInterrupt\u001b[0m: "
     ]
    }
   ],
   "source": [
    "# url = 'https://newsapi.org/v2/everything?q=bitcoin&apiKey=a480e8aeb3d04e96a5a5ba0ebc0c9aa4'\n",
    "\n",
    "keywords = ['bitcoin', 'war', 'election', 'monsoon']\n",
    "for keyword in keywords:\n",
    "    # Produce a message\n",
    "    response = requests.get(f'https://newsapi.org/v2/everything?q={keyword}&apiKey=a480e8aeb3d04e96a5a5ba0ebc0c9aa4')\n",
    "    news_data = response.json()\n",
    "\n",
    "    for each in news_data['articles']:\n",
    "        news = {\n",
    "            'author': each['author'],\n",
    "            'title': each['title'],\n",
    "            'description': each['description'],\n",
    "        }\n",
    "        # print(news)\n",
    "        \n",
    "        # send the message\n",
    "        data = {'news_info': news}\n",
    "        topic_name = 'newsTopic3'\n",
    "        future = producer.send(topic_name, value=news)\n",
    "        # or\n",
    "        # data = {'key': 'news_info', 'value' : news}\n",
    "        # future = producer.send(topic_name, data)\n",
    "        \n",
    "        # producer.flush()\n",
    "        sleep(3)"
   ]
  },
  {
   "cell_type": "code",
   "execution_count": null,
   "id": "c7bec097-d64c-4756-9e7b-5dfc800131d1",
   "metadata": {},
   "outputs": [],
   "source": []
  }
 ],
 "metadata": {
  "kernelspec": {
   "display_name": "Python 3 (ipykernel)",
   "language": "python",
   "name": "python3"
  },
  "language_info": {
   "codemirror_mode": {
    "name": "ipython",
    "version": 3
   },
   "file_extension": ".py",
   "mimetype": "text/x-python",
   "name": "python",
   "nbconvert_exporter": "python",
   "pygments_lexer": "ipython3",
   "version": "3.11.9"
  }
 },
 "nbformat": 4,
 "nbformat_minor": 5
}
